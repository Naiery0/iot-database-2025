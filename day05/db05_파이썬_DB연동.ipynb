{
 "cells": [
  {
   "cell_type": "markdown",
   "metadata": {},
   "source": [
    "## 환경\n",
    "- MySQL 9.2.0\n",
    "- Python 3.11.9\n",
    "    - MySQL 모듈 - PyMySQL"
   ]
  },
  {
   "cell_type": "code",
   "execution_count": 1,
   "metadata": {},
   "outputs": [
    {
     "name": "stdout",
     "output_type": "stream",
     "text": [
      "Collecting pymysql\n",
      "  Downloading PyMySQL-1.1.1-py3-none-any.whl.metadata (4.4 kB)\n",
      "Downloading PyMySQL-1.1.1-py3-none-any.whl (44 kB)\n",
      "Installing collected packages: pymysql\n",
      "Successfully installed pymysql-1.1.1\n"
     ]
    }
   ],
   "source": [
    "# pymysql 모듈 설치\n",
    "!pip install pymysql"
   ]
  },
  {
   "cell_type": "code",
   "execution_count": 2,
   "metadata": {},
   "outputs": [],
   "source": [
    "import pymysql"
   ]
  },
  {
   "cell_type": "markdown",
   "metadata": {},
   "source": [
    "#### DB접속 변수 초기화"
   ]
  },
  {
   "cell_type": "code",
   "execution_count": 3,
   "metadata": {},
   "outputs": [],
   "source": [
    "host = 'localhost' # or '127.0.0.1'\n",
    "port = 3306\n",
    "database = 'madang'\n",
    "username = 'root'\n",
    "password = '12345'\n",
    "\n",
    "conflag = 1 # 접속상태 확인"
   ]
  },
  {
   "cell_type": "markdown",
   "metadata": {},
   "source": [
    "#### DB접속 수행"
   ]
  },
  {
   "cell_type": "code",
   "execution_count": 9,
   "metadata": {},
   "outputs": [
    {
     "name": "stdout",
     "output_type": "stream",
     "text": [
      "DB연결 준비...\n",
      "DB연결 성공\n"
     ]
    }
   ],
   "source": [
    "try:\n",
    "    print('DB연결 준비...')\n",
    "    # 연결객체 conn 생성\n",
    "    conn = pymysql.connect(host=host, user=username, passwd=password, port=port, database=database)\n",
    "    print('DB연결 성공')\n",
    "    conflag = 1\n",
    "except Exception as e:\n",
    "    print(f'DB연결 실패 - {e}')\n",
    "    conflag = 0"
   ]
  },
  {
   "cell_type": "markdown",
   "metadata": {},
   "source": [
    "#### 데이터 가져오기"
   ]
  },
  {
   "cell_type": "code",
   "execution_count": 15,
   "metadata": {},
   "outputs": [
    {
     "name": "stdout",
     "output_type": "stream",
     "text": [
      "No.\tBookName\tPublisher\tPrice\n",
      "1\t축구의 역사\t굿스포츠\t7000\n",
      "2\t축구아는 여자\t나무수\t13000\n",
      "3\t축구의 이해\t대한미디어\t22000\n",
      "4\t골프 바이블\t대한미디어\t35000\n",
      "5\t피겨 교본\t굿스포츠\t8000\n",
      "6\t역도 단계별기술\t굿스포츠\t6000\n",
      "7\t야구의 추억\t이상미디어\t20000\n",
      "8\t야구를 부탁해\t이상미디어\t13000\n",
      "9\t올림픽 이야기\t삼성당\t7500\n",
      "10\tOlympic Champions\tPearson\t13000\n",
      "11\t스포츠 의학\t한솔의학서적\t90000\n",
      "12\t스타워즈 아트북\t디즈니\t1500000\n",
      "13\t기타교본 1\t지미 핸드릭스\t12000\n",
      "14\t스포츠 의학\tPearson\t12000\n",
      "21\tZen Golf\tPearson\t12000\n",
      "22\tSoccer Skills\tHuman Kinetics\t15000\n",
      "31\tBTS PhotoAlbum\t하이브\t300000\n",
      "33\t스포츠의 즐거움\t마당과학\t35000\n"
     ]
    }
   ],
   "source": [
    "if conflag:\n",
    "    cursor = conn.cursor() # 커서 생성(MySQL의 커서와 동일한 기능)\n",
    "    query = '''SELECT bookid\n",
    "                    , bookname\n",
    "                    , publisher\n",
    "                    , price \n",
    "                 FROM Book''' # 프로그래밍언어에서 쿼리문 작성 시, 세미콜론 제거\n",
    "    res = cursor.execute(query) # SQL 실행\n",
    "    data = cursor.fetchall() # MySQL 데이터를 한 번에 다 가져옴\n",
    "\n",
    "    # 화면에 출력\n",
    "    print(f'No.\\tBookName\\tPublisher\\tPrice')\n",
    "    for rowdata in data:\n",
    "        print(f'{rowdata[0]}\\t{rowdata[1]}\\t{rowdata[2]}\\t{rowdata[3]}')\n",
    "    cursor.close()"
   ]
  },
  {
   "cell_type": "markdown",
   "metadata": {},
   "source": [
    "#### DB 연결 종료"
   ]
  },
  {
   "cell_type": "code",
   "execution_count": 16,
   "metadata": {},
   "outputs": [],
   "source": [
    "conn.close() # 반드시"
   ]
  }
 ],
 "metadata": {
  "kernelspec": {
   "display_name": "Python 3",
   "language": "python",
   "name": "python3"
  },
  "language_info": {
   "codemirror_mode": {
    "name": "ipython",
    "version": 3
   },
   "file_extension": ".py",
   "mimetype": "text/x-python",
   "name": "python",
   "nbconvert_exporter": "python",
   "pygments_lexer": "ipython3",
   "version": "3.11.9"
  }
 },
 "nbformat": 4,
 "nbformat_minor": 2
}
